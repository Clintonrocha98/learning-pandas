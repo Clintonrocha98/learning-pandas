{
 "cells": [
  {
   "cell_type": "markdown",
   "id": "a457ed3b-5628-4a91-b78f-c5429ded7917",
   "metadata": {},
   "source": [
    "# questão 1"
   ]
  },
  {
   "cell_type": "code",
   "execution_count": null,
   "id": "b346448e-ea5c-46f0-984f-76c9d4cc4ee7",
   "metadata": {},
   "outputs": [],
   "source": [
    "import pandas as pd\n",
    "\n",
    "doc = pd.read_csv(\"GasPricesinBrazil_2004-2019.csv\",sep=\";\")\n",
    "doc.columns = doc.columns.str.title().str.replace(\" \",\"\")\n",
    "\n",
    "doc\n"
   ]
  },
  {
   "cell_type": "markdown",
   "id": "6fa87566-e9e9-454b-b068-a96b8cb0579f",
   "metadata": {},
   "source": [
    "# questão 2"
   ]
  },
  {
   "cell_type": "code",
   "execution_count": 73,
   "id": "1fb43f43-0f70-48da-a6cc-e6169bc8082c",
   "metadata": {},
   "outputs": [],
   "source": [
    "wrong = [\"MargemMédiaRevenda\",\"PreçoMédioDistribuição\",\n",
    "         \"DesvioPadrãoDistribuição\",\"PreçoMínimoDistribuição\",\n",
    "         \"PreçoMáximoDistribuição\",\"PreçoMáximoDistribuição\",\n",
    "         \"CoefDeVariaçãoDistribuição\"]\n",
    "dates = [\"DataInicial\",\"DataFinal\"]\n",
    "# for c in wrong:\n",
    "for c in doc.select_dtypes(\"int64\").columns:\n",
    "    doc[c] = pd.to_numeric(doc[c],errors=\"coerce\")\n",
    "\n",
    "for c in dates:\n",
    "    doc[c] = pd.to_datetime(doc[c])\n"
   ]
  },
  {
   "cell_type": "code",
   "execution_count": 74,
   "id": "bde87a71-4b62-4848-b879-c4c6805ff5fe",
   "metadata": {},
   "outputs": [
    {
     "name": "stdout",
     "output_type": "stream",
     "text": [
      "<class 'pandas.core.frame.DataFrame'>\n",
      "RangeIndex: 106823 entries, 0 to 106822\n",
      "Data columns (total 21 columns):\n",
      " #   Column                      Non-Null Count   Dtype         \n",
      "---  ------                      --------------   -----         \n",
      " 0   Unnamed:0                   106823 non-null  int64         \n",
      " 1   DataInicial                 106823 non-null  datetime64[ns]\n",
      " 2   DataFinal                   106823 non-null  datetime64[ns]\n",
      " 3   Região                      106823 non-null  object        \n",
      " 4   Estado                      106823 non-null  object        \n",
      " 5   Produto                     106823 non-null  object        \n",
      " 6   NúmeroDePostosPesquisados   106823 non-null  int64         \n",
      " 7   UnidadeDeMedida             106823 non-null  object        \n",
      " 8   PreçoMédioRevenda           106823 non-null  float64       \n",
      " 9   DesvioPadrãoRevenda         106823 non-null  float64       \n",
      " 10  PreçoMínimoRevenda          106823 non-null  float64       \n",
      " 11  PreçoMáximoRevenda          106823 non-null  float64       \n",
      " 12  MargemMédiaRevenda          103392 non-null  float64       \n",
      " 13  CoefDeVariaçãoRevenda       106823 non-null  float64       \n",
      " 14  PreçoMédioDistribuição      103423 non-null  float64       \n",
      " 15  DesvioPadrãoDistribuição    103423 non-null  float64       \n",
      " 16  PreçoMínimoDistribuição     103423 non-null  float64       \n",
      " 17  PreçoMáximoDistribuição     103423 non-null  float64       \n",
      " 18  CoefDeVariaçãoDistribuição  103423 non-null  float64       \n",
      " 19  Mês                         106823 non-null  int64         \n",
      " 20  Ano                         106823 non-null  int64         \n",
      "dtypes: datetime64[ns](2), float64(11), int64(4), object(4)\n",
      "memory usage: 17.1+ MB\n"
     ]
    }
   ],
   "source": [
    "doc.info()"
   ]
  },
  {
   "cell_type": "code",
   "execution_count": null,
   "id": "618dd289-4686-4020-a05e-b961a43d3480",
   "metadata": {},
   "outputs": [],
   "source": [
    "doc"
   ]
  },
  {
   "cell_type": "code",
   "execution_count": null,
   "id": "2f67b405-474b-43d0-a783-fa68bc1e3845",
   "metadata": {},
   "outputs": [],
   "source": []
  }
 ],
 "metadata": {
  "kernelspec": {
   "display_name": "Python 3 (ipykernel)",
   "language": "python",
   "name": "python3"
  },
  "language_info": {
   "codemirror_mode": {
    "name": "ipython",
    "version": 3
   },
   "file_extension": ".py",
   "mimetype": "text/x-python",
   "name": "python",
   "nbconvert_exporter": "python",
   "pygments_lexer": "ipython3",
   "version": "3.12.7"
  }
 },
 "nbformat": 4,
 "nbformat_minor": 5
}
